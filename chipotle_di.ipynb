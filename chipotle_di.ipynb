{
 "cells": [
  {
   "cell_type": "markdown",
   "metadata": {},
   "source": [
    "<img src=\"http://imgur.com/1ZcRyrc.png\" style=\"float: left; margin: 20px; height: 55px\">\n",
    "\n",
    "# Project 2: Analyzing Chipotle Data\n",
    "\n",
    "_Author: Joseph Nelson (DC)_\n",
    "\n",
    "---"
   ]
  },
  {
   "cell_type": "markdown",
   "metadata": {},
   "source": [
    "For Project 2, you will complete a series of exercises exploring [order data from Chipotle](https://github.com/TheUpshot/chipotle), compliments of _The New York Times'_ \"The Upshot.\"\n",
    "\n",
    "For these exercises, you will conduct basic exploratory data analysis (Pandas not required) to understand the essentials of Chipotle's order data: how many orders are being made, the average price per order, how many different ingredients are used, etc. These allow you to practice business analysis skills while also becoming comfortable with Python."
   ]
  },
  {
   "cell_type": "markdown",
   "metadata": {},
   "source": [
    "---\n",
    "\n",
    "## Basic Level"
   ]
  },
  {
   "cell_type": "markdown",
   "metadata": {},
   "source": [
    "### Part 1: Read in the file with `csv.reader()` and store it in an object called `file_nested_list`.\n",
    "\n",
    "Hint: This is a TSV (tab-separated value) file, and `csv.reader()` needs to be told [how to handle it](https://docs.python.org/2/library/csv.html)."
   ]
  },
  {
   "cell_type": "code",
   "execution_count": 56,
   "metadata": {},
   "outputs": [],
   "source": [
    "import csv\n",
    "from collections import namedtuple   # Convenient to store the data rows\n",
    "from collections import defaultdict\n",
    "\n",
    "DATA_FILE = './data/chipotle.tsv'"
   ]
  },
  {
   "cell_type": "code",
   "execution_count": 57,
   "metadata": {},
   "outputs": [],
   "source": [
    " with open(DATA_FILE) as csvfile:\n",
    "        spamreader=csv.reader(csvfile,delimiter='\\t')\n",
    "        file_nested_list=[]\n",
    "        for row in spamreader:\n",
    "            file_nested_list+=[row]\n"
   ]
  },
  {
   "cell_type": "markdown",
   "metadata": {},
   "source": [
    "### Part 2: Separate `file_nested_list` into the `header` and the `data`.\n"
   ]
  },
  {
   "cell_type": "code",
   "execution_count": 58,
   "metadata": {},
   "outputs": [
    {
     "data": {
      "text/plain": [
       "['order_id', 'quantity', 'item_name', 'choice_description', 'item_price']"
      ]
     },
     "execution_count": 58,
     "metadata": {},
     "output_type": "execute_result"
    }
   ],
   "source": [
    "header=file_nested_list[0]\n",
    "header"
   ]
  },
  {
   "cell_type": "code",
   "execution_count": 59,
   "metadata": {},
   "outputs": [],
   "source": [
    "data=file_nested_list[1:]"
   ]
  },
  {
   "cell_type": "markdown",
   "metadata": {},
   "source": [
    "---\n",
    "\n",
    "## Intermediate Level"
   ]
  },
  {
   "cell_type": "markdown",
   "metadata": {},
   "source": [
    "### Part 3: Calculate the average price of an order.\n",
    "\n",
    "Hint: Examine the data to see if the `quantity` column is relevant to this calculation.\n",
    "\n",
    "Hint: Think carefully about the simplest way to do this!"
   ]
  },
  {
   "cell_type": "code",
   "execution_count": 60,
   "metadata": {},
   "outputs": [
    {
     "data": {
      "text/plain": [
       "8.489186499350943"
      ]
     },
     "execution_count": 60,
     "metadata": {},
     "output_type": "execute_result"
    }
   ],
   "source": [
    "sum([float(row[header.index(\"item_price\")].replace('$',''))\n",
    "     *float(row[header.index(\"quantity\")]) for row in data])/len(data)"
   ]
  },
  {
   "cell_type": "code",
   "execution_count": null,
   "metadata": {},
   "outputs": [],
   "source": []
  },
  {
   "cell_type": "code",
   "execution_count": null,
   "metadata": {},
   "outputs": [],
   "source": []
  },
  {
   "cell_type": "code",
   "execution_count": null,
   "metadata": {},
   "outputs": [],
   "source": []
  },
  {
   "cell_type": "markdown",
   "metadata": {},
   "source": [
    "### Part 4: Create a list (or set) named `unique_sodas` containing all of unique sodas and soft drinks that Chipotle sells.\n",
    "\n",
    "\n",
    "Note: Just look for `'Canned Soda'` and `'Canned Soft Drink'`, and ignore other drinks like `'Izze'`."
   ]
  },
  {
   "cell_type": "code",
   "execution_count": 61,
   "metadata": {},
   "outputs": [
    {
     "data": {
      "text/plain": [
       "{'6 Pack Soft Drink', 'Canned Soda', 'Canned Soft Drink'}"
      ]
     },
     "execution_count": 61,
     "metadata": {},
     "output_type": "execute_result"
    }
   ],
   "source": [
    "def contains(word,sublist):\n",
    "  for sub in sublist:\n",
    "      if sub in word:\n",
    "          return word\n",
    "          break\n",
    "\n",
    "            \n",
    "set(filter(None,[contains(row[header.index('item_name')],['Canned Soda','Soft Drink']) \n",
    "     for row in data]))\n",
    "  "
   ]
  },
  {
   "cell_type": "code",
   "execution_count": null,
   "metadata": {},
   "outputs": [],
   "source": []
  },
  {
   "cell_type": "code",
   "execution_count": 62,
   "metadata": {},
   "outputs": [
    {
     "data": {
      "text/plain": [
       "['order_id', 'quantity', 'item_name', 'choice_description', 'item_price']"
      ]
     },
     "execution_count": 62,
     "metadata": {},
     "output_type": "execute_result"
    }
   ],
   "source": [
    "header"
   ]
  },
  {
   "cell_type": "code",
   "execution_count": null,
   "metadata": {},
   "outputs": [],
   "source": []
  },
  {
   "cell_type": "markdown",
   "metadata": {},
   "source": [
    "---\n",
    "\n",
    "## Advanced Level\n"
   ]
  },
  {
   "cell_type": "markdown",
   "metadata": {},
   "source": [
    "### Part 5: Calculate the average number of toppings per burrito.\n",
    "\n",
    "Note: Let's ignore the `quantity` column to simplify this task.\n",
    "\n",
    "Hint: Think carefully about the easiest way to count the number of toppings!\n"
   ]
  },
  {
   "cell_type": "code",
   "execution_count": 63,
   "metadata": {},
   "outputs": [
    {
     "data": {
      "text/plain": [
       "{'Barbacoa Burrito',\n",
       " 'Burrito',\n",
       " 'Carnitas Burrito',\n",
       " 'Chicken Burrito',\n",
       " 'Steak Burrito',\n",
       " 'Veggie Burrito'}"
      ]
     },
     "execution_count": 63,
     "metadata": {},
     "output_type": "execute_result"
    }
   ],
   "source": [
    "burritos=set(filter(None,[contains(row[header.index('item_name')],['Burrito']) \n",
    "     for row in data]))\n",
    "burritos"
   ]
  },
  {
   "cell_type": "code",
   "execution_count": 64,
   "metadata": {},
   "outputs": [
    {
     "data": {
      "text/plain": [
       "4.320987654320987"
      ]
     },
     "execution_count": 64,
     "metadata": {},
     "output_type": "execute_result"
    }
   ],
   "source": [
    "burrito_descr=[row[header.index(\"choice_description\")] for row in data \n",
    "              if row[header.index(\"item_name\")] in burritos]\n",
    "\n",
    "def listconvert(listin):\n",
    "    try:\n",
    "        out=listin.split(\"[\")[2].replace(\"]]\",\"\").split(\",\")\n",
    "        return out\n",
    "    except:\n",
    "        return None\n",
    "        \n",
    "topi=list(filter(None,[listconvert(row) for row in burrito_descr]))\n",
    "sum([len(topir) for topir in topi])/len(topi)"
   ]
  },
  {
   "cell_type": "code",
   "execution_count": null,
   "metadata": {},
   "outputs": [],
   "source": []
  },
  {
   "cell_type": "code",
   "execution_count": null,
   "metadata": {},
   "outputs": [],
   "source": []
  },
  {
   "cell_type": "markdown",
   "metadata": {},
   "source": [
    "### Part 6: Create a dictionary. Let the keys represent chip orders and the values represent the total number of orders.\n",
    "\n",
    "Expected output: `{'Chips and Roasted Chili-Corn Salsa': 18, ... }`\n",
    "\n",
    "Note: Please take the `quantity` column into account!\n",
    "\n",
    "Optional: Learn how to use `.defaultdict()` to simplify your code."
   ]
  },
  {
   "cell_type": "code",
   "execution_count": 65,
   "metadata": {},
   "outputs": [],
   "source": [
    "ld = list((row[header.index(\"item_name\")], row[header.index(\"quantity\")]) for row in data)"
   ]
  },
  {
   "cell_type": "code",
   "execution_count": 68,
   "metadata": {},
   "outputs": [],
   "source": [
    "d1 = defaultdict(list)\n",
    "for k, v in ld:\n",
    "    d1[k].append(int(v))"
   ]
  },
  {
   "cell_type": "code",
   "execution_count": 69,
   "metadata": {},
   "outputs": [
    {
     "data": {
      "text/plain": [
       "{'6 Pack Soft Drink': 55,\n",
       " 'Barbacoa Bowl': 66,\n",
       " 'Barbacoa Burrito': 91,\n",
       " 'Barbacoa Crispy Tacos': 12,\n",
       " 'Barbacoa Salad Bowl': 10,\n",
       " 'Barbacoa Soft Tacos': 25,\n",
       " 'Bottled Water': 211,\n",
       " 'Bowl': 4,\n",
       " 'Burrito': 6,\n",
       " 'Canned Soda': 126,\n",
       " 'Canned Soft Drink': 351,\n",
       " 'Carnitas Bowl': 71,\n",
       " 'Carnitas Burrito': 60,\n",
       " 'Carnitas Crispy Tacos': 8,\n",
       " 'Carnitas Salad': 1,\n",
       " 'Carnitas Salad Bowl': 6,\n",
       " 'Carnitas Soft Tacos': 40,\n",
       " 'Chicken Bowl': 761,\n",
       " 'Chicken Burrito': 591,\n",
       " 'Chicken Crispy Tacos': 50,\n",
       " 'Chicken Salad': 9,\n",
       " 'Chicken Salad Bowl': 123,\n",
       " 'Chicken Soft Tacos': 120,\n",
       " 'Chips': 230,\n",
       " 'Chips and Fresh Tomato Salsa': 130,\n",
       " 'Chips and Guacamole': 506,\n",
       " 'Chips and Mild Fresh Tomato Salsa': 1,\n",
       " 'Chips and Roasted Chili Corn Salsa': 23,\n",
       " 'Chips and Roasted Chili-Corn Salsa': 18,\n",
       " 'Chips and Tomatillo Green Chili Salsa': 45,\n",
       " 'Chips and Tomatillo Red Chili Salsa': 50,\n",
       " 'Chips and Tomatillo-Green Chili Salsa': 33,\n",
       " 'Chips and Tomatillo-Red Chili Salsa': 25,\n",
       " 'Crispy Tacos': 2,\n",
       " 'Izze': 20,\n",
       " 'Nantucket Nectar': 29,\n",
       " 'Salad': 2,\n",
       " 'Side of Chips': 110,\n",
       " 'Steak Bowl': 221,\n",
       " 'Steak Burrito': 386,\n",
       " 'Steak Crispy Tacos': 36,\n",
       " 'Steak Salad': 4,\n",
       " 'Steak Salad Bowl': 31,\n",
       " 'Steak Soft Tacos': 56,\n",
       " 'Veggie Bowl': 87,\n",
       " 'Veggie Burrito': 97,\n",
       " 'Veggie Crispy Tacos': 1,\n",
       " 'Veggie Salad': 6,\n",
       " 'Veggie Salad Bowl': 18,\n",
       " 'Veggie Soft Tacos': 8}"
      ]
     },
     "execution_count": 69,
     "metadata": {},
     "output_type": "execute_result"
    }
   ],
   "source": [
    "dorder_quantity = dict()\n",
    "for key,value in d1.items():\n",
    "    dorder_quantity[key]=sum(value)\n",
    "dorder_quantity"
   ]
  },
  {
   "cell_type": "code",
   "execution_count": null,
   "metadata": {},
   "outputs": [],
   "source": []
  },
  {
   "cell_type": "code",
   "execution_count": null,
   "metadata": {
    "collapsed": true
   },
   "outputs": [],
   "source": []
  },
  {
   "cell_type": "markdown",
   "metadata": {},
   "source": [
    "---\n",
    "\n",
    "## Bonus: Craft a problem statement about this data that interests you, and then answer it!\n"
   ]
  },
  {
   "cell_type": "code",
   "execution_count": null,
   "metadata": {
    "collapsed": true
   },
   "outputs": [],
   "source": [
    "#Correct the data to give a better estimate of the order numbers :\n",
    "#    Chips and Roasted Chili Corn Salsa =Chips and Roasted Chili-Corn Salsa"
   ]
  },
  {
   "cell_type": "code",
   "execution_count": 70,
   "metadata": {},
   "outputs": [],
   "source": [
    "ld = list((row[header.index(\"item_name\")].replace(\"-\",\" \"), row[header.index(\"quantity\")]) for row in data)"
   ]
  },
  {
   "cell_type": "code",
   "execution_count": 72,
   "metadata": {},
   "outputs": [],
   "source": [
    "d1 = defaultdict(list)\n",
    "for k, v in ld:\n",
    "    d1[k].append(int(v))"
   ]
  },
  {
   "cell_type": "code",
   "execution_count": 73,
   "metadata": {},
   "outputs": [
    {
     "data": {
      "text/plain": [
       "{'6 Pack Soft Drink': 55,\n",
       " 'Barbacoa Bowl': 66,\n",
       " 'Barbacoa Burrito': 91,\n",
       " 'Barbacoa Crispy Tacos': 12,\n",
       " 'Barbacoa Salad Bowl': 10,\n",
       " 'Barbacoa Soft Tacos': 25,\n",
       " 'Bottled Water': 211,\n",
       " 'Bowl': 4,\n",
       " 'Burrito': 6,\n",
       " 'Canned Soda': 126,\n",
       " 'Canned Soft Drink': 351,\n",
       " 'Carnitas Bowl': 71,\n",
       " 'Carnitas Burrito': 60,\n",
       " 'Carnitas Crispy Tacos': 8,\n",
       " 'Carnitas Salad': 1,\n",
       " 'Carnitas Salad Bowl': 6,\n",
       " 'Carnitas Soft Tacos': 40,\n",
       " 'Chicken Bowl': 761,\n",
       " 'Chicken Burrito': 591,\n",
       " 'Chicken Crispy Tacos': 50,\n",
       " 'Chicken Salad': 9,\n",
       " 'Chicken Salad Bowl': 123,\n",
       " 'Chicken Soft Tacos': 120,\n",
       " 'Chips': 230,\n",
       " 'Chips and Fresh Tomato Salsa': 130,\n",
       " 'Chips and Guacamole': 506,\n",
       " 'Chips and Mild Fresh Tomato Salsa': 1,\n",
       " 'Chips and Roasted Chili Corn Salsa': 41,\n",
       " 'Chips and Tomatillo Green Chili Salsa': 78,\n",
       " 'Chips and Tomatillo Red Chili Salsa': 75,\n",
       " 'Crispy Tacos': 2,\n",
       " 'Izze': 20,\n",
       " 'Nantucket Nectar': 29,\n",
       " 'Salad': 2,\n",
       " 'Side of Chips': 110,\n",
       " 'Steak Bowl': 221,\n",
       " 'Steak Burrito': 386,\n",
       " 'Steak Crispy Tacos': 36,\n",
       " 'Steak Salad': 4,\n",
       " 'Steak Salad Bowl': 31,\n",
       " 'Steak Soft Tacos': 56,\n",
       " 'Veggie Bowl': 87,\n",
       " 'Veggie Burrito': 97,\n",
       " 'Veggie Crispy Tacos': 1,\n",
       " 'Veggie Salad': 6,\n",
       " 'Veggie Salad Bowl': 18,\n",
       " 'Veggie Soft Tacos': 8}"
      ]
     },
     "execution_count": 73,
     "metadata": {},
     "output_type": "execute_result"
    }
   ],
   "source": [
    "dorder_quantity = dict()\n",
    "for key,value in d1.items():\n",
    "    dorder_quantity[key]=sum(value)\n",
    "dorder_quantity"
   ]
  },
  {
   "cell_type": "code",
   "execution_count": null,
   "metadata": {},
   "outputs": [],
   "source": []
  }
 ],
 "metadata": {
  "anaconda-cloud": {},
  "kernelspec": {
   "display_name": "Python 3",
   "language": "python",
   "name": "python3"
  },
  "language_info": {
   "codemirror_mode": {
    "name": "ipython",
    "version": 3
   },
   "file_extension": ".py",
   "mimetype": "text/x-python",
   "name": "python",
   "nbconvert_exporter": "python",
   "pygments_lexer": "ipython3",
   "version": "3.6.4"
  }
 },
 "nbformat": 4,
 "nbformat_minor": 2
}
